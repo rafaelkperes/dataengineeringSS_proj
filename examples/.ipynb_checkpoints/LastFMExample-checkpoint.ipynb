{
 "cells": [
  {
   "cell_type": "code",
   "execution_count": 11,
   "metadata": {
    "collapsed": false
   },
   "outputs": [
    {
     "name": "stdout",
     "output_type": "stream",
     "text": [
      "Installed autotime.py. To use it, type:\n",
      "  %load_ext autotime\n",
      "The autotime extension is already loaded. To reload it, use:\n",
      "  %reload_ext autotime\n",
      "time: 955 ms\n"
     ]
    }
   ],
   "source": [
    "%install_ext https://raw.github.com/cpcloud/ipython-autotime/master/autotime.py\n",
    "%load_ext autotime\n",
    "%matplotlib inline \n",
    "\n",
    "import numpy as np\n",
    "import matplotlib as plot\n",
    "import matplotlib.pyplot as plt\n",
    "import pdb\n",
    "import pandas as pd\n",
    "import requests\n",
    "\n",
    "import xml.etree.ElementTree as ET"
   ]
  },
  {
   "cell_type": "code",
   "execution_count": 100,
   "metadata": {
    "collapsed": false
   },
   "outputs": [
    {
     "name": "stdout",
     "output_type": "stream",
     "text": [
      "<?xml version=\"1.0\" encoding=\"UTF-8\" ?>\n",
      "<lfm status=\"failed\"><error code=\"6\">The artist you supplied could not be found</error>\n",
      "</lfm>\n",
      "\n",
      "time: 347 ms\n"
     ]
    }
   ],
   "source": [
    "artistname = 'ASNFOIAUGA'\n",
    "url = 'http://ws.audioscrobbler.com/2.0/?method=artist.getinfo&artist=' + artistname + '&api_key=b863970e9ba9d8391a162cae75ce422b' #&format=json'\n",
    "#url = 'http://ws.audioscrobbler.com/2.0/?method=artist.search&artist=cher&api_key=b863970e9ba9d8391a162cae75ce422b' #&format=json'\n",
    "response = requests.get(url)\n",
    "print (response.content)"
   ]
  },
  {
   "cell_type": "code",
   "execution_count": 98,
   "metadata": {
    "collapsed": false
   },
   "outputs": [
    {
     "name": "stdout",
     "output_type": "stream",
     "text": [
      "time: 3 ms\n"
     ]
    }
   ],
   "source": [
    "root = ET.fromstring(response.content)\n",
    "root.text"
   ]
  },
  {
   "cell_type": "code",
   "execution_count": 110,
   "metadata": {
    "collapsed": false
   },
   "outputs": [
    {
     "name": "stdout",
     "output_type": "stream",
     "text": [
      "Error code: 6\n",
      "time: 6 ms\n"
     ]
    }
   ],
   "source": [
    "if root.find('error') is not None:\n",
    "    error = root.find('error')\n",
    "    print 'Error code: ' + error.get('code')\n",
    "elif root.find('artist') is not None:\n",
    "    artist = root.find('artist')\n",
    "    name = artist.find('name').text\n",
    "    stats = artist.find('stats')\n",
    "    playcount = stats.find('playcount').text\n",
    "    listeners = stats.find('listeners').text\n",
    "    print ('%s: %d listeners and %.3d plays.' % (name, int(listeners), int(playcount)))"
   ]
  },
  {
   "cell_type": "code",
   "execution_count": null,
   "metadata": {
    "collapsed": true
   },
   "outputs": [],
   "source": []
  }
 ],
 "metadata": {
  "kernelspec": {
   "display_name": "Python 2",
   "language": "python",
   "name": "python2"
  },
  "language_info": {
   "codemirror_mode": {
    "name": "ipython",
    "version": 2
   },
   "file_extension": ".py",
   "mimetype": "text/x-python",
   "name": "python",
   "nbconvert_exporter": "python",
   "pygments_lexer": "ipython2",
   "version": "2.7.11"
  }
 },
 "nbformat": 4,
 "nbformat_minor": 0
}
