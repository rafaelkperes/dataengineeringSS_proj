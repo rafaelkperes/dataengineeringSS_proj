{
 "cells": [
  {
   "cell_type": "code",
   "execution_count": 1,
   "metadata": {
    "collapsed": true
   },
   "outputs": [],
   "source": [
    "# COLUMNS:\n",
    "# 1        2         3       4   5      6              7   8   9   10\n",
    "# NAMELAST,NAMEFIRST,NAMEMID,UIN,BDGNBR,Type of Access,TOA,POA,TOD,POD,\n",
    "# 11             12              13            14               15\n",
    "# APPT_MADE_DATE,APPT_START_DATE,APPT_END_DATE,APPT_CANCEL_DATE,Total_People,\n",
    "# 16             17   18            19              20              \n",
    "# LAST_UPDATEDBY,POST,LastEntryDate,TERMINAL_SUFFIX,visitee_namelast,\n",
    "# 21                22          23           24               25                \n",
    "# visitee_namefirst,MEETING_LOC,MEETING_ROOM,CALLER_NAME_LAST,CALLER_NAME_FIRST,\n",
    "# 26          27          28\n",
    "# CALLER_ROOM,Description,RELEASE_DATE\n",
    "\n",
    "import numpy as np\n",
    "import matplotlib as plot\n",
    "import pdb\n",
    "from pandas import *"
   ]
  },
  {
   "cell_type": "code",
   "execution_count": null,
   "metadata": {
    "collapsed": false
   },
   "outputs": [],
   "source": [
    "data = read_csv('datasets/White_House_Visitor_Records_Requests.csv') # Columns (4,13,25,27) have mixed types.\n",
    "# Column 4: UIN\n",
    "# Column 13: APPT_END_DATE\n",
    "# Column 25: CALLER_NAME_FIRST\n",
    "# Column 27: Description"
   ]
  },
  {
   "cell_type": "code",
   "execution_count": null,
   "metadata": {
    "collapsed": true
   },
   "outputs": [],
   "source": []
  }
 ],
 "metadata": {
  "kernelspec": {
   "display_name": "Python 2",
   "language": "python",
   "name": "python2"
  },
  "language_info": {
   "codemirror_mode": {
    "name": "ipython",
    "version": 2
   },
   "file_extension": ".py",
   "mimetype": "text/x-python",
   "name": "python",
   "nbconvert_exporter": "python",
   "pygments_lexer": "ipython2",
   "version": "2.7.11"
  }
 },
 "nbformat": 4,
 "nbformat_minor": 0
}
