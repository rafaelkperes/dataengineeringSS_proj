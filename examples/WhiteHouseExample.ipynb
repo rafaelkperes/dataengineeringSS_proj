{
 "cells": [
  {
   "cell_type": "code",
   "execution_count": 4,
   "metadata": {
    "collapsed": false
   },
   "outputs": [
    {
     "name": "stderr",
     "output_type": "stream",
     "text": [
      "C:\\Anaconda2\\lib\\site-packages\\IPython\\core\\magics\\extension.py:47: UserWarning: %install_ext` is deprecated, please distribute your extension as a python package.\n",
      "  \"as a python package.\", UserWarning)\n"
     ]
    },
    {
     "name": "stdout",
     "output_type": "stream",
     "text": [
      "Installed autotime.py. To use it, type:\n",
      "  %load_ext autotime\n"
     ]
    }
   ],
   "source": [
    "%install_ext https://raw.github.com/cpcloud/ipython-autotime/master/autotime.py\n",
    "%load_ext autotime"
   ]
  },
  {
   "cell_type": "code",
   "execution_count": 69,
   "metadata": {
    "collapsed": false
   },
   "outputs": [
    {
     "name": "stdout",
     "output_type": "stream",
     "text": [
      "time: 238 ms\n"
     ]
    }
   ],
   "source": [
    "# COLUMNS:\n",
    "# 0        1         2       3   4      5              6   7   8   9\n",
    "# NAMELAST,NAMEFIRST,NAMEMID,UIN,BDGNBR,Type of Access,TOA,POA,TOD,POD,\n",
    "# 10             11              12            13               14\n",
    "# APPT_MADE_DATE,APPT_START_DATE,APPT_END_DATE,APPT_CANCEL_DATE,Total_People,\n",
    "# 15             16   17            18              19              \n",
    "# LAST_UPDATEDBY,POST,LastEntryDate,TERMINAL_SUFFIX,visitee_namelast,\n",
    "# 20                21          22           23               24                \n",
    "# visitee_namefirst,MEETING_LOC,MEETING_ROOM,CALLER_NAME_LAST,CALLER_NAME_FIRST,\n",
    "# 25          26          27\n",
    "# CALLER_ROOM,Description,RELEASE_DATE\n",
    "\n",
    "%matplotlib inline \n",
    "\n",
    "import numpy as np\n",
    "import matplotlib as plot\n",
    "import matplotlib.pyplot as plt\n",
    "import pdb\n",
    "import pandas as pd"
   ]
  },
  {
   "cell_type": "code",
   "execution_count": 95,
   "metadata": {
    "collapsed": false
   },
   "outputs": [
    {
     "name": "stdout",
     "output_type": "stream",
     "text": [
      "time: 2.89 s\n"
     ]
    }
   ],
   "source": [
    "df = pd.read_csv('../datasets/White_House_Visitor_Records_Requests.csv',\n",
    "                    parse_dates=['APPT_START_DATE'], \n",
    "                    dayfirst=True,\n",
    "                    #index_col=['NAMELAST','NAMEFIRST'],\n",
    "                    usecols=['NAMELAST', 'NAMEFIRST', 'APPT_START_DATE'], # reads only these columns to memory\n",
    "                    nrows=10000) # for faster testing, remove for efective use of the dataframe\n",
    "pd.set_option('large_repr', 'info') # will show dataframe summary"
   ]
  },
  {
   "cell_type": "code",
   "execution_count": 111,
   "metadata": {
    "collapsed": false
   },
   "outputs": [
    {
     "name": "stdout",
     "output_type": "stream",
     "text": [
      "time: 86 ms\n"
     ]
    }
   ],
   "source": [
    "#pd.to_datetime(df['APPT_START_DATE'], format='%Y-%m-%d')\n",
    "df['APPT_START_DATE'] = df['APPT_START_DATE'].apply(pd.datetools.normalize_date) # removes the hour"
   ]
  },
  {
   "cell_type": "code",
   "execution_count": 97,
   "metadata": {
    "collapsed": false
   },
   "outputs": [
    {
     "name": "stdout",
     "output_type": "stream",
     "text": [
      "Summary:\n",
      "<class 'pandas.core.frame.DataFrame'>\n",
      "RangeIndex: 10000 entries, 0 to 9999\n",
      "Data columns (total 3 columns):\n",
      "NAMELAST           10000 non-null object\n",
      "NAMEFIRST          10000 non-null object\n",
      "APPT_START_DATE    10000 non-null datetime64[ns]\n",
      "dtypes: datetime64[ns](1), object(2)\n",
      "memory usage: 234.4+ KB\n",
      "\n",
      "Example data:\n",
      "   NAMELAST   NAMEFIRST APPT_START_DATE\n",
      "0  MATTHEWS        GARY      2010-05-19\n",
      "1     DOYLE    PATRICIA      2010-05-19\n",
      "2  MATTHEWS       SANDY      2010-05-19\n",
      "3    MALONE      SHARON      2010-05-19\n",
      "4    WILSON  WELLINGTON      2010-05-19\n",
      "5     ABEBE        SABA      2010-05-19\n",
      "6   ABRAHAM       ABEBE      2010-05-19\n",
      "7   ABRAHAM   AZENEGASH      2010-05-19\n",
      "8   ABRAHAM       JIITU      2010-05-19\n",
      "9   ABRAHAM    YOHANNES      2010-05-19\n",
      "time: 20 ms\n"
     ]
    }
   ],
   "source": [
    "print ('Summary:')\n",
    "print (df)\n",
    "print ('Example data:')\n",
    "print (df[:10])"
   ]
  },
  {
   "cell_type": "code",
   "execution_count": 98,
   "metadata": {
    "collapsed": false
   },
   "outputs": [
    {
     "data": {
      "text/plain": [
       "<matplotlib.axes._subplots.AxesSubplot at 0x228da0b8>"
      ]
     },
     "execution_count": 98,
     "metadata": {},
     "output_type": "execute_result"
    },
    {
     "data": {
      "image/png": "[encoded data removed]",
      "text/plain": [
       "<matplotlib.figure.Figure at 0x228bda90>"
      ]
     },
     "metadata": {},
     "output_type": "display_data"
    },
    {
     "name": "stdout",
     "output_type": "stream",
     "text": [
      "time: 296 ms\n"
     ]
    }
   ],
   "source": [
    "visit_counts = df['APPT_START_DATE'].value_counts()\n",
    "visit_counts[:10].plot()"
   ]
  },
  {
   "cell_type": "code",
   "execution_count": 110,
   "metadata": {
    "collapsed": false
   },
   "outputs": [
    {
     "name": "stdout",
     "output_type": "stream",
     "text": [
      "Number of visits from JIITU ABRAHAM: \n",
      "2\n",
      "Number of visits from RAFAEL PERES: \n",
      "0\n",
      "time: 16 ms\n"
     ]
    }
   ],
   "source": [
    "has_last_name = df['NAMELAST'] == \"ABRAHAM\"\n",
    "has_first_name = df['NAMEFIRST'] == \"JIITU\"\n",
    "print (\"Number of visits from JIITU ABRAHAM: \")\n",
    "print (len(df[has_last_name & has_first_name]))\n",
    "\n",
    "has_last_name = df['NAMELAST'] == \"PERES\"\n",
    "has_first_name = df['NAMEFIRST'] == \"RAFAEL\"\n",
    "print (\"Number of visits from RAFAEL PERES: \")\n",
    "print (len(df[has_last_name & has_first_name]))"
   ]
  },
  {
   "cell_type": "code",
   "execution_count": null,
   "metadata": {
    "collapsed": true
   },
   "outputs": [],
   "source": []
  }
 ],
 "metadata": {
  "kernelspec": {
   "display_name": "Python 2",
   "language": "python",
   "name": "python2"
  },
  "language_info": {
   "codemirror_mode": {
    "name": "ipython",
    "version": 2
   },
   "file_extension": ".py",
   "mimetype": "text/x-python",
   "name": "python",
   "nbconvert_exporter": "python",
   "pygments_lexer": "ipython2",
   "version": "2.7.11"
  }
 },
 "nbformat": 4,
 "nbformat_minor": 0
}
